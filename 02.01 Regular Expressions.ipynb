{
 "cells": [
  {
   "cell_type": "markdown",
   "metadata": {},
   "source": [
    "# 2.1 Regular Expressions\n",
    "\n",
    "The book aptly calls out regular expressions as one of the unsung successes in computer science :-). They are super handy for a lot of tasks and can sometimes be adequate to solve some NLP problems. They can also help establish baselines for many NLP problems.\n",
    "\n",
    "In Python, `re` is the default regular expression library that we need to import and use."
   ]
  },
  {
   "cell_type": "code",
   "execution_count": 17,
   "metadata": {},
   "outputs": [],
   "source": [
    "import re"
   ]
  },
  {
   "cell_type": "markdown",
   "metadata": {},
   "source": [
    "Below, we will use the variable `s` for the string that we are interested in searching in and a variable ending in `_re` to denote the regex we are searching for. We will mostly use the function `re.search` since it's the most flexible. We will also use compiled regexes since they run faster."
   ]
  },
  {
   "cell_type": "markdown",
   "metadata": {},
   "source": [
    "## 2.1.1 Basic Regular Expression Patterns"
   ]
  },
  {
   "cell_type": "code",
   "execution_count": 25,
   "metadata": {},
   "outputs": [
    {
     "name": "stdout",
     "output_type": "stream",
     "text": [
      "<re.Match object; span=(19, 28), match='woodchuck'>\n"
     ]
    }
   ],
   "source": [
    "s = '''Do you know what a woodchuck is?'''\n",
    "\n",
    "# compile a regex for matching the exact string 'woodchuck'\n",
    "# we use raw strings so regex special characters are not interpreted\n",
    "woodchuck_re = re.compile(r'woodchuck')\n",
    "\n",
    "# search\n",
    "m = re.search(woodchuck_re, s)\n",
    "print(m)"
   ]
  },
  {
   "cell_type": "code",
   "execution_count": 19,
   "metadata": {},
   "outputs": [
    {
     "data": {
      "text/plain": [
       "'woodchuck'"
      ]
     },
     "execution_count": 19,
     "metadata": {},
     "output_type": "execute_result"
    }
   ],
   "source": [
    "s[19:28]"
   ]
  },
  {
   "cell_type": "code",
   "execution_count": 20,
   "metadata": {},
   "outputs": [
    {
     "name": "stdout",
     "output_type": "stream",
     "text": [
      "None\n"
     ]
    }
   ],
   "source": [
    "# regexes are case-sensitive by default.\n",
    "\n",
    "s = '''I'm called little Buttercup'''\n",
    "\n",
    "my_re = re.compile(r'buttercup')\n",
    "\n",
    "# this won't match since the case does not match.\n",
    "m = re.search(my_re, s)\n",
    "print(m)"
   ]
  },
  {
   "cell_type": "code",
   "execution_count": 21,
   "metadata": {},
   "outputs": [
    {
     "name": "stdout",
     "output_type": "stream",
     "text": [
      "<re.Match object; span=(18, 27), match='Buttercup'>\n"
     ]
    }
   ],
   "source": [
    "# use square braces for disjunction to allow case insensitivity \n",
    "# for the first character\n",
    "\n",
    "my_re = re.compile(r'[bB]uttercup')\n",
    "\n",
    "m = re.search(my_re, s)\n",
    "print(m)"
   ]
  },
  {
   "cell_type": "code",
   "execution_count": 27,
   "metadata": {},
   "outputs": [
    {
     "name": "stdout",
     "output_type": "stream",
     "text": [
      "<re.Match object; span=(1, 2), match='e'>\n"
     ]
    }
   ],
   "source": [
    "# match any vowel, case-insensitive\n",
    "\n",
    "s = '''Hello there, Mr. E!'''\n",
    "\n",
    "vowel_re = re.compile(r'[aeiouAEIOU]')\n",
    "\n",
    "m = re.search(vowel_re, s)\n",
    "print(m)"
   ]
  },
  {
   "cell_type": "markdown",
   "metadata": {},
   "source": [
    "Notice that only the first match is returned by `re.search`. If we want to find all the matches, we can use `re.finditer`"
   ]
  },
  {
   "cell_type": "code",
   "execution_count": 28,
   "metadata": {},
   "outputs": [
    {
     "name": "stdout",
     "output_type": "stream",
     "text": [
      "<re.Match object; span=(1, 2), match='e'>\n",
      "<re.Match object; span=(4, 5), match='o'>\n",
      "<re.Match object; span=(8, 9), match='e'>\n",
      "<re.Match object; span=(10, 11), match='e'>\n",
      "<re.Match object; span=(17, 18), match='E'>\n"
     ]
    }
   ],
   "source": [
    "for m in re.finditer(vowel_re, s):\n",
    "    print(m)"
   ]
  },
  {
   "cell_type": "code",
   "execution_count": 35,
   "metadata": {},
   "outputs": [
    {
     "name": "stdout",
     "output_type": "stream",
     "text": [
      "<re.Match object; span=(1, 2), match='e'>\n"
     ]
    }
   ],
   "source": [
    "# Set case-insensitive match with flag\n",
    "\n",
    "s = '''Hello there, Mr. E!'''\n",
    "\n",
    "vowel_re = re.compile(r'[aeiou]', flags=re.IGNORECASE)\n",
    "\n",
    "m = re.search(vowel_re, s)\n",
    "print(m)"
   ]
  },
  {
   "cell_type": "code",
   "execution_count": 37,
   "metadata": {},
   "outputs": [
    {
     "name": "stdout",
     "output_type": "stream",
     "text": [
      "<re.Match object; span=(13, 14), match='M'>\n"
     ]
    }
   ],
   "source": [
    "# match any uppercase letter\n",
    "\n",
    "s = '''hello there, Mr. E!'''\n",
    "\n",
    "upper_re = re.compile(r'[A-Z]')\n",
    "m = re.search(upper_re, s)\n",
    "print(m)"
   ]
  },
  {
   "cell_type": "markdown",
   "metadata": {},
   "source": [
    "Similarly, `[a-z]` matches any lower-case letter and `[0-9]` matches any digit. In python `\\d` also means a digit."
   ]
  },
  {
   "cell_type": "code",
   "execution_count": 41,
   "metadata": {},
   "outputs": [
    {
     "name": "stdout",
     "output_type": "stream",
     "text": [
      "<re.Match object; span=(8, 9), match='1'>\n",
      "<re.Match object; span=(9, 10), match='0'>\n",
      "<re.Match object; span=(10, 11), match='0'>\n"
     ]
    }
   ],
   "source": [
    "s = '''He won $100 in the raffle.'''\n",
    "\n",
    "# let's try a regex directly and not compile it\n",
    "for m in re.finditer(r'\\d', s):\n",
    "    print(m)"
   ]
  },
  {
   "cell_type": "markdown",
   "metadata": {},
   "source": [
    "Negation i.e. to not match on something, use `[^`."
   ]
  },
  {
   "cell_type": "code",
   "execution_count": 42,
   "metadata": {},
   "outputs": [
    {
     "name": "stdout",
     "output_type": "stream",
     "text": [
      "<re.Match object; span=(1, 2), match='y'>\n",
      "<re.Match object; span=(2, 3), match='f'>\n",
      "<re.Match object; span=(3, 4), match='n'>\n",
      "<re.Match object; span=(4, 5), match=' '>\n",
      "<re.Match object; span=(6, 7), match='r'>\n",
      "<re.Match object; span=(7, 8), match='i'>\n",
      "<re.Match object; span=(8, 9), match='p'>\n",
      "<re.Match object; span=(9, 10), match='e'>\n"
     ]
    }
   ],
   "source": [
    "s = '''Oyfn PripeT'''\n",
    "\n",
    "not_upper_case_re = re.compile(r'[^A-Z]')\n",
    "\n",
    "for m in re.finditer(not_upper_case_re, s):\n",
    "    print(m)"
   ]
  },
  {
   "cell_type": "markdown",
   "metadata": {},
   "source": [
    "For substituting patterns matching a regular expression with something else, we can use `re.sub`."
   ]
  },
  {
   "cell_type": "code",
   "execution_count": 44,
   "metadata": {},
   "outputs": [
    {
     "name": "stdout",
     "output_type": "stream",
     "text": [
      "ello here, oc!\n"
     ]
    }
   ],
   "source": [
    "# remove all upper-case characters\n",
    "\n",
    "s = '''Hello There, Doc!'''\n",
    "\n",
    "upper_removed_s = re.sub(r'[A-Z]', '', s)\n",
    "print(upper_removed_s)"
   ]
  },
  {
   "cell_type": "code",
   "execution_count": 46,
   "metadata": {},
   "outputs": [
    {
     "name": "stdout",
     "output_type": "stream",
     "text": [
      "<re.Match object; span=(8, 14), match='colour'>\n"
     ]
    }
   ],
   "source": [
    "# optional element, meaning 0 or 1 occurrence\n",
    "\n",
    "# what they see in England\n",
    "s = 'rainbow colours'\n",
    "\n",
    "m = re.search(r'colou?r', s)\n",
    "print(m)"
   ]
  },
  {
   "cell_type": "code",
   "execution_count": 47,
   "metadata": {},
   "outputs": [
    {
     "name": "stdout",
     "output_type": "stream",
     "text": [
      "<re.Match object; span=(8, 13), match='color'>\n"
     ]
    }
   ],
   "source": [
    "# what they see in the US\n",
    "s = 'rainbow colors'\n",
    "\n",
    "m = re.search(r'colou?r', s)\n",
    "print(m)"
   ]
  },
  {
   "cell_type": "markdown",
   "metadata": {},
   "source": [
    "### Kleene * (cleany star) and Kleene +\n",
    "\n",
    "When we want to match zero or more occurrences of the immediately previous character or regex. So `a*` means 0 or more a's. It is greedy and will try to mach for maximum length first."
   ]
  },
  {
   "cell_type": "code",
   "execution_count": 49,
   "metadata": {},
   "outputs": [
    {
     "data": {
      "text/plain": [
       "<re.Match object; span=(0, 4), match='aaaa'>"
      ]
     },
     "execution_count": 49,
     "metadata": {},
     "output_type": "execute_result"
    }
   ],
   "source": [
    "s = 'aaaabracadabraa'\n",
    "re.search(r'a*', s)"
   ]
  },
  {
   "cell_type": "code",
   "execution_count": 51,
   "metadata": {},
   "outputs": [
    {
     "data": {
      "text/plain": [
       "<re.Match object; span=(0, 0), match=''>"
      ]
     },
     "execution_count": 51,
     "metadata": {},
     "output_type": "execute_result"
    }
   ],
   "source": [
    "s = 'freezing temps'\n",
    "re.search(r'a*', s)"
   ]
  },
  {
   "cell_type": "markdown",
   "metadata": {},
   "source": [
    "But the regex also matches the beginning of the string, which is an empty character. If we want to match 1 or more occurrences, then we need to use \"Kleene +\""
   ]
  },
  {
   "cell_type": "code",
   "execution_count": 53,
   "metadata": {},
   "outputs": [
    {
     "name": "stdout",
     "output_type": "stream",
     "text": [
      "None\n"
     ]
    }
   ],
   "source": [
    "s = 'freezing temps'\n",
    "m = re.search(r'a+', s)\n",
    "print(m)"
   ]
  },
  {
   "cell_type": "code",
   "execution_count": 59,
   "metadata": {},
   "outputs": [
    {
     "name": "stdout",
     "output_type": "stream",
     "text": [
      "<re.Match object; span=(0, 2), match='aa'>\n",
      "<re.Match object; span=(4, 5), match='a'>\n",
      "<re.Match object; span=(6, 9), match='aaa'>\n",
      "<re.Match object; span=(10, 11), match='a'>\n",
      "<re.Match object; span=(14, 20), match='aaaaaa'>\n"
     ]
    }
   ],
   "source": [
    "# find all runs of 1 or more a's in a string\n",
    "s = 'aabracaaada braaaaaa..'\n",
    "for m in re.finditer(r'a+', s):\n",
    "    print(m)"
   ]
  },
  {
   "cell_type": "markdown",
   "metadata": {},
   "source": [
    "---"
   ]
  },
  {
   "cell_type": "markdown",
   "metadata": {},
   "source": [
    "Sheep langugage consists of all strings starting with a 'b', followed by at least two 'a's, followed by an exclamation point, so like:\n",
    "\n",
    "- baa!\n",
    "- baaa!\n",
    "- baaaa!\n",
    "- baaaaa!\n",
    "- ..."
   ]
  },
  {
   "cell_type": "code",
   "execution_count": 62,
   "metadata": {},
   "outputs": [],
   "source": [
    "s = '''\n",
    "Sheep 1 said, \"baaaaaa!\".\n",
    "Sheep 2 responded, \"baaa!\".\n",
    "The rest of the sheep said, \"baaaaaaaaaa!\".\n",
    "'''"
   ]
  },
  {
   "cell_type": "code",
   "execution_count": 63,
   "metadata": {},
   "outputs": [
    {
     "name": "stdout",
     "output_type": "stream",
     "text": [
      "<re.Match object; span=(16, 24), match='baaaaaa!'>\n",
      "<re.Match object; span=(47, 52), match='baaa!'>\n",
      "<re.Match object; span=(84, 96), match='baaaaaaaaaa!'>\n"
     ]
    }
   ],
   "source": [
    "for m in re.finditer(r'baa+!', s):\n",
    "    print(m)"
   ]
  },
  {
   "cell_type": "markdown",
   "metadata": {},
   "source": [
    "We can also use the regex `ba{2,}!` for achieving the same. This means a `b` followed by 2 or more `a`s, followed by a `!`."
   ]
  },
  {
   "cell_type": "code",
   "execution_count": 64,
   "metadata": {},
   "outputs": [
    {
     "name": "stdout",
     "output_type": "stream",
     "text": [
      "<re.Match object; span=(16, 24), match='baaaaaa!'>\n",
      "<re.Match object; span=(47, 52), match='baaa!'>\n",
      "<re.Match object; span=(84, 96), match='baaaaaaaaaa!'>\n"
     ]
    }
   ],
   "source": [
    "for m in re.finditer(r'ba{2,}!', s):\n",
    "    print(m)"
   ]
  },
  {
   "cell_type": "markdown",
   "metadata": {},
   "source": [
    "### Match any character (except a newline)\n",
    "\n",
    "The character `.` (dot or period) matches any character except a newline. This is the wildcard expression."
   ]
  },
  {
   "cell_type": "code",
   "execution_count": 65,
   "metadata": {},
   "outputs": [
    {
     "name": "stdout",
     "output_type": "stream",
     "text": [
      "<re.Match object; span=(0, 5), match='begin'>\n",
      "<re.Match object; span=(0, 5), match='began'>\n",
      "<re.Match object; span=(0, 5), match='begun'>\n",
      "<re.Match object; span=(0, 5), match=\"beg'n\">\n",
      "<re.Match object; span=(0, 5), match='begon'>\n"
     ]
    }
   ],
   "source": [
    "some_strings = [\"begin\", \"began\", \"begun\", \"beg'n\", \"begone\"]\n",
    "for s in some_strings:\n",
    "    m = re.search(r'beg.n', s)\n",
    "    print(m)"
   ]
  },
  {
   "cell_type": "markdown",
   "metadata": {},
   "source": [
    "### Match any string of characters\n",
    "\n",
    "We use a period followed by Kleene * to match any string of characters. If you want to find all sentences that have at least two occurrences of the word 'ship', use the regex `ship.*ship`"
   ]
  },
  {
   "cell_type": "code",
   "execution_count": 69,
   "metadata": {},
   "outputs": [
    {
     "name": "stdout",
     "output_type": "stream",
     "text": [
      "<re.Match object; span=(6, 25), match='shipped on his ship'>\n"
     ]
    }
   ],
   "source": [
    "s = \"He worshipped on his ship.\"\n",
    "m = re.search(r'ship.*ship', s)\n",
    "print(m)"
   ]
  },
  {
   "cell_type": "markdown",
   "metadata": {},
   "source": [
    "#### `.*` won't match multiple lines due to carriage return in Windows\n",
    "\n",
    "In Windows, the ENTER key produces two characters: a carriage return (`\\r`) followed by a line feed (`\\n`). You can use Notepad++ in Windows to display special characters. Click on View > Show Symbol > Show all characters.\n",
    "\n",
    "In Linux, the ENTER key produces only one character: the line feed (`\\n`).\n",
    "\n",
    "Both of these are not matched by `.`"
   ]
  },
  {
   "cell_type": "code",
   "execution_count": 68,
   "metadata": {},
   "outputs": [
    {
     "name": "stdout",
     "output_type": "stream",
     "text": [
      "None\n"
     ]
    }
   ],
   "source": [
    "s = '''He worshipped on\n",
    "his ship.'''\n",
    "\n",
    "m = re.search(r'ship.*ship', s)\n",
    "print(m)"
   ]
  },
  {
   "cell_type": "markdown",
   "metadata": {},
   "source": [
    "#### How to make `.` match newline?\n",
    "\n",
    "Use the flag `re.DOTALL`"
   ]
  },
  {
   "cell_type": "code",
   "execution_count": 71,
   "metadata": {},
   "outputs": [
    {
     "name": "stdout",
     "output_type": "stream",
     "text": [
      "<re.Match object; span=(6, 25), match='shipped on\\nhis ship'>\n"
     ]
    }
   ],
   "source": [
    "s = '''He worshipped on\n",
    "his ship.'''\n",
    "\n",
    "m = re.search(r'ship.*ship', s, re.DOTALL)\n",
    "print(m)"
   ]
  },
  {
   "cell_type": "markdown",
   "metadata": {},
   "source": [
    "### Regexes are greedy by default"
   ]
  },
  {
   "cell_type": "code",
   "execution_count": 72,
   "metadata": {},
   "outputs": [
    {
     "name": "stdout",
     "output_type": "stream",
     "text": [
      "<re.Match object; span=(6, 59), match='shipped on his ship. He wanted to get that fellow>\n"
     ]
    }
   ],
   "source": [
    "s = \"He worshipped on his ship. He wanted to get that fellowship.\"\n",
    "\n",
    "m = re.search(r'ship.*ship', s, re.DOTALL)\n",
    "print(m)"
   ]
  },
  {
   "cell_type": "markdown",
   "metadata": {},
   "source": [
    "The `match` output above is confusing because the match is truncated! Notice that there's no closing quote so this is only the initial few characters of the match. We can get the full string that matched the regex using `m.group(0)`."
   ]
  },
  {
   "cell_type": "code",
   "execution_count": 73,
   "metadata": {},
   "outputs": [
    {
     "data": {
      "text/plain": [
       "'shipped on his ship. He wanted to get that fellowship'"
      ]
     },
     "execution_count": 73,
     "metadata": {},
     "output_type": "execute_result"
    }
   ],
   "source": [
    "m.group(0)"
   ]
  },
  {
   "cell_type": "markdown",
   "metadata": {},
   "source": [
    "#### Non-greedey regex with `.*?`"
   ]
  },
  {
   "cell_type": "code",
   "execution_count": 76,
   "metadata": {},
   "outputs": [
    {
     "name": "stdout",
     "output_type": "stream",
     "text": [
      "<re.Match object; span=(6, 25), match='shipped on his ship'>\n"
     ]
    }
   ],
   "source": [
    "s = \"He worshipped on his ship. He wanted to get that fellowship.\"\n",
    "\n",
    "# Note that we have replaced .* with .*? below\n",
    "m = re.search(r'ship.*?ship', s, re.DOTALL)\n",
    "print(m)"
   ]
  },
  {
   "cell_type": "markdown",
   "metadata": {},
   "source": [
    "### Anchors\n",
    "\n",
    "- `^`: beginning of a string or line\n",
    "- `$`: end of string or line\n",
    "- `\\b`: word boundary\n",
    "- `\\B`: non word boundary"
   ]
  },
  {
   "cell_type": "code",
   "execution_count": 81,
   "metadata": {},
   "outputs": [
    {
     "name": "stdout",
     "output_type": "stream",
     "text": [
      "<re.Match object; span=(0, 3), match='The'>\n"
     ]
    }
   ],
   "source": [
    "s = \"The shop at the end of the street.\"\n",
    "m = re.search(r'^The', s)\n",
    "print(m)"
   ]
  },
  {
   "cell_type": "markdown",
   "metadata": {},
   "source": [
    "Note that the beginning anchor `^` itself does not match any character. It only enforces whatever follows it to be at the beginning."
   ]
  },
  {
   "cell_type": "code",
   "execution_count": 104,
   "metadata": {},
   "outputs": [
    {
     "name": "stdout",
     "output_type": "stream",
     "text": [
      "<re.Match object; span=(0, 3), match='The'>\n"
     ]
    }
   ],
   "source": [
    "s = '''They shopped at the end of the street. The street was empty.\n",
    "Their enthusiasm got them going.\n",
    "'''\n",
    "for m in re.finditer(r'^The', s):\n",
    "    print(m)"
   ]
  },
  {
   "cell_type": "markdown",
   "metadata": {},
   "source": [
    "By default, python re module anchors only at the beginning of string, not all new lines. To match all lines, we have to use the flag `re.MULTILINE`"
   ]
  },
  {
   "cell_type": "code",
   "execution_count": 90,
   "metadata": {},
   "outputs": [
    {
     "name": "stdout",
     "output_type": "stream",
     "text": [
      "<re.Match object; span=(0, 3), match='The'>\n",
      "<re.Match object; span=(61, 64), match='The'>\n"
     ]
    }
   ],
   "source": [
    "for m in re.finditer(r'^The', s, re.MULTILINE):\n",
    "    print(m)"
   ]
  },
  {
   "cell_type": "code",
   "execution_count": 98,
   "metadata": {},
   "outputs": [],
   "source": [
    "# similarly, the `$` matches the end of lines.\n",
    "# we want to match all occurrences of the string 'eat.' but only if it's at the end of line.\n",
    "\n",
    "s = '''\n",
    "Come on, this is where I want to eat.\n",
    "The sheep are bleating nearby.\n",
    "This is really neat.\n",
    "I love this treat.\n",
    "But please... no meat!\n",
    "'''"
   ]
  },
  {
   "cell_type": "code",
   "execution_count": 99,
   "metadata": {},
   "outputs": [
    {
     "name": "stdout",
     "output_type": "stream",
     "text": [
      "<re.Match object; span=(34, 38), match='eat.'>\n",
      "<re.Match object; span=(86, 90), match='eat.'>\n",
      "<re.Match object; span=(105, 109), match='eat.'>\n"
     ]
    }
   ],
   "source": [
    "for m in re.finditer(r'eat\\.$', s, re.MULTILINE):\n",
    "    print(m)"
   ]
  },
  {
   "cell_type": "markdown",
   "metadata": {},
   "source": [
    "Note that we had to \"escape\" the period with a backslash (`\\`) above so it's not interpreted as the wildcard."
   ]
  },
  {
   "cell_type": "markdown",
   "metadata": {},
   "source": [
    "But what if you want to match only the word 'eat' and not occurrences of 'eat' within other words? Use `\\b` to specify word boundaries on both sides of 'eat'."
   ]
  },
  {
   "cell_type": "code",
   "execution_count": 100,
   "metadata": {},
   "outputs": [
    {
     "name": "stdout",
     "output_type": "stream",
     "text": [
      "<re.Match object; span=(34, 37), match='eat'>\n"
     ]
    }
   ],
   "source": [
    "for m in re.finditer(r'\\beat\\b', s):\n",
    "    print(m)"
   ]
  },
  {
   "cell_type": "markdown",
   "metadata": {},
   "source": [
    "And what if you want to match the word 'eat' only if it's part of a longer word? Use the non word boundary anchor `\\B`."
   ]
  },
  {
   "cell_type": "code",
   "execution_count": 101,
   "metadata": {},
   "outputs": [
    {
     "name": "stdout",
     "output_type": "stream",
     "text": [
      "<re.Match object; span=(55, 58), match='eat'>\n"
     ]
    }
   ],
   "source": [
    "for m in re.finditer(r'\\Beat\\B', s):\n",
    "    print(m)"
   ]
  },
  {
   "cell_type": "markdown",
   "metadata": {},
   "source": [
    "Now it matched the 'eat' in the word 'bleating'. But this is not complete. We also want to get the 'eat' in other words like 'neat', 'treat' and 'meat'. Use the disjunction operator pipe (`|`)"
   ]
  },
  {
   "cell_type": "code",
   "execution_count": 103,
   "metadata": {},
   "outputs": [
    {
     "name": "stdout",
     "output_type": "stream",
     "text": [
      "<re.Match object; span=(55, 58), match='eat'>\n",
      "<re.Match object; span=(86, 89), match='eat'>\n",
      "<re.Match object; span=(105, 108), match='eat'>\n",
      "<re.Match object; span=(128, 131), match='eat'>\n"
     ]
    }
   ],
   "source": [
    "for m in re.finditer(r'\\Beat|eat\\B', s):\n",
    "    print(m)"
   ]
  },
  {
   "cell_type": "markdown",
   "metadata": {},
   "source": [
    "Now we have matched all occurrences of 'eat' that had a non-word character before it or after it."
   ]
  },
  {
   "cell_type": "markdown",
   "metadata": {},
   "source": [
    "### How to match both puppy and puppies?"
   ]
  },
  {
   "cell_type": "code",
   "execution_count": 107,
   "metadata": {},
   "outputs": [
    {
     "name": "stdout",
     "output_type": "stream",
     "text": [
      "<re.Match object; span=(13, 20), match='puppies'>\n",
      "<re.Match object; span=(27, 32), match='puppy'>\n"
     ]
    }
   ],
   "source": [
    "s = '''Three little puppies. That puppy is especially cute!'''\n",
    "\n",
    "# We can use disjunction on the full strings\n",
    "for m in re.finditer(r'puppy|puppies', s):\n",
    "    print(m)"
   ]
  },
  {
   "cell_type": "code",
   "execution_count": 108,
   "metadata": {},
   "outputs": [
    {
     "name": "stdout",
     "output_type": "stream",
     "text": [
      "<re.Match object; span=(13, 20), match='puppies'>\n",
      "<re.Match object; span=(27, 32), match='puppy'>\n"
     ]
    }
   ],
   "source": [
    "# Or we can reuse only use disjunction for the end\n",
    "for m in re.finditer(r'pupp(y|ies)', s):\n",
    "    print(m)"
   ]
  },
  {
   "cell_type": "markdown",
   "metadata": {},
   "source": [
    "## An exercise writing regex\n",
    "\n",
    "Regexes, though handy, can become quite unweildy.\n",
    "\n",
    "Let's write an RE to find cases of the English article 'the'. Consider the following string."
   ]
  },
  {
   "cell_type": "code",
   "execution_count": 139,
   "metadata": {},
   "outputs": [],
   "source": [
    "s = '''The North American Plate is a tectonic plate.\n",
    "It extends eastward to the Mid-Atlantic Ridge and \n",
    "westward to the Chersky Range in eastern Siberia.\n",
    "On the northerly boundary is a continuation of the \n",
    "Mid-Atlantic Ridge called the Gakkel Ridge. It moves\n",
    "at 15mm - 25mm per year. The15mm speed was observed recently.'''"
   ]
  },
  {
   "cell_type": "markdown",
   "metadata": {},
   "source": [
    "Here are the occurrences of the word 'the' in their contexts and the start indices of 'the' or 'The' in `s` within parantheses:\n",
    "\n",
    "1. The North (0)\n",
    "1. to the Mid (69)\n",
    "1. to the Chersky (109)\n",
    "1. On the northerly (150)\n",
    "1. of the Mid (194)\n",
    "1. called the Gakkel (225)\n",
    "1. The15mm (277)\n",
    "\n",
    "Note that we also want to count 'The15mm' (starting at index 277) even though it's a typo missing a space between 'The' and '15'."
   ]
  },
  {
   "cell_type": "code",
   "execution_count": 147,
   "metadata": {},
   "outputs": [],
   "source": [
    "# let us save the start indices, so we can use it for testing later\n",
    "\n",
    "true_start_indices = [0, 69, 109, 150, 194, 225, 277]"
   ]
  },
  {
   "cell_type": "markdown",
   "metadata": {},
   "source": [
    "#### Attempt 1"
   ]
  },
  {
   "cell_type": "code",
   "execution_count": 153,
   "metadata": {},
   "outputs": [
    {
     "name": "stdout",
     "output_type": "stream",
     "text": [
      "<re.Match object; span=(69, 72), match='the'>\n",
      "<re.Match object; span=(109, 112), match='the'>\n",
      "<re.Match object; span=(150, 153), match='the'>\n",
      "<re.Match object; span=(157, 160), match='the'>\n",
      "<re.Match object; span=(194, 197), match='the'>\n",
      "<re.Match object; span=(225, 228), match='the'>\n"
     ]
    }
   ],
   "source": [
    "for m in re.finditer(r'the', s):\n",
    "    print(m)"
   ]
  },
  {
   "cell_type": "markdown",
   "metadata": {},
   "source": [
    "The regex missed two cases we wanted to capture: the ones starting at indices 0 and 277. In machine learning (ML) parlance, these instances are called \"false negatives\" (FN).\n",
    "\n",
    "We can fix these by changing `the` to `[tT]he`.\n",
    "\n",
    "The above regex also captures the 'the' within 'northerly' (start index 157). In ML parlance, this is a \"false positive\" (FP). We will deal with this next, but for the moment let's just try `[tT]he`."
   ]
  },
  {
   "cell_type": "markdown",
   "metadata": {},
   "source": [
    "#### Attempt 2"
   ]
  },
  {
   "cell_type": "code",
   "execution_count": 132,
   "metadata": {},
   "outputs": [
    {
     "name": "stdout",
     "output_type": "stream",
     "text": [
      "<re.Match object; span=(0, 3), match='The'>\n",
      "<re.Match object; span=(69, 72), match='the'>\n",
      "<re.Match object; span=(109, 112), match='the'>\n",
      "<re.Match object; span=(150, 153), match='the'>\n",
      "<re.Match object; span=(157, 160), match='the'>\n",
      "<re.Match object; span=(194, 197), match='the'>\n",
      "<re.Match object; span=(225, 228), match='the'>\n",
      "<re.Match object; span=(277, 280), match='The'>\n"
     ]
    }
   ],
   "source": [
    "for m in re.finditer(r'[tT]he', s):\n",
    "    print(m)"
   ]
  },
  {
   "cell_type": "markdown",
   "metadata": {},
   "source": [
    "Now we got the 'The' at indices 0 and 277.\n",
    "\n",
    "Next, let's fix the false positive at index 157 by requiring word boundaries around our regex."
   ]
  },
  {
   "cell_type": "markdown",
   "metadata": {},
   "source": [
    "#### Attempt 3"
   ]
  },
  {
   "cell_type": "code",
   "execution_count": 155,
   "metadata": {},
   "outputs": [
    {
     "name": "stdout",
     "output_type": "stream",
     "text": [
      "<re.Match object; span=(0, 3), match='The'>\n",
      "<re.Match object; span=(69, 72), match='the'>\n",
      "<re.Match object; span=(109, 112), match='the'>\n",
      "<re.Match object; span=(150, 153), match='the'>\n",
      "<re.Match object; span=(194, 197), match='the'>\n",
      "<re.Match object; span=(225, 228), match='the'>\n"
     ]
    }
   ],
   "source": [
    "for m in re.finditer(r'\\b[tT]he\\b', s):\n",
    "    print(m)"
   ]
  },
  {
   "cell_type": "markdown",
   "metadata": {},
   "source": [
    "Now we are missing the 'The' starting at index 277 since it is followed immediately by the character '1', which is not a word boundary. So we can't use word boundary for our regex if we want to capture 'The15mm'. \n",
    "\n",
    "Let's modify the regex to allow for any character that is not `a-z` or `A-Z` to be around 'the'."
   ]
  },
  {
   "cell_type": "markdown",
   "metadata": {},
   "source": [
    "#### Attempt 4"
   ]
  },
  {
   "cell_type": "code",
   "execution_count": 156,
   "metadata": {},
   "outputs": [
    {
     "name": "stdout",
     "output_type": "stream",
     "text": [
      "<re.Match object; span=(68, 73), match=' the '>\n",
      "<re.Match object; span=(108, 113), match=' the '>\n",
      "<re.Match object; span=(149, 154), match=' the '>\n",
      "<re.Match object; span=(193, 198), match=' the '>\n",
      "<re.Match object; span=(224, 229), match=' the '>\n",
      "<re.Match object; span=(276, 281), match=' The1'>\n"
     ]
    }
   ],
   "source": [
    "for m in re.finditer(r'[^a-zA-Z][tT]he[^a-zA-Z]', s):\n",
    "    print(m)"
   ]
  },
  {
   "cell_type": "markdown",
   "metadata": {},
   "source": [
    "Notice that now our match captures one character around the word as well.\n",
    "\n",
    "But this is missing the 'The' at index 0, so we also need to allow for the beginning anchor before and ending anchor after."
   ]
  },
  {
   "cell_type": "markdown",
   "metadata": {},
   "source": [
    "#### Attempt 5"
   ]
  },
  {
   "cell_type": "code",
   "execution_count": 136,
   "metadata": {},
   "outputs": [
    {
     "name": "stdout",
     "output_type": "stream",
     "text": [
      "<re.Match object; span=(0, 4), match='The '>\n",
      "<re.Match object; span=(68, 73), match=' the '>\n",
      "<re.Match object; span=(108, 113), match=' the '>\n",
      "<re.Match object; span=(149, 154), match=' the '>\n",
      "<re.Match object; span=(193, 198), match=' the '>\n",
      "<re.Match object; span=(224, 229), match=' the '>\n",
      "<re.Match object; span=(276, 281), match=' The1'>\n"
     ]
    }
   ],
   "source": [
    "for m in re.finditer(r'(^|[^a-zA-Z])[tT]he([^a-zA-Z]|$)', s):\n",
    "    print(m)"
   ]
  },
  {
   "cell_type": "markdown",
   "metadata": {},
   "source": [
    "This regex now captures exactly what we wanted to capture.\n",
    "\n",
    "Let us fix the code by getting the exact start indices. Anything with parantheses in the regex is available in `group`, so we can use `m.group(1)` to capture whatever is inside the first pair of parantheses, `m.group(2)` for the second pair, and so on. We can also use `m.span(1)` to get the start and end indices for the first group, etc.\n",
    "\n",
    "Let's keep what we want to capture as the second group below."
   ]
  },
  {
   "cell_type": "code",
   "execution_count": 146,
   "metadata": {},
   "outputs": [
    {
     "name": "stdout",
     "output_type": "stream",
     "text": [
      "The (0, 3)\n",
      "the (69, 72)\n",
      "the (109, 112)\n",
      "the (150, 153)\n",
      "the (194, 197)\n",
      "the (225, 228)\n",
      "The (277, 280)\n"
     ]
    }
   ],
   "source": [
    "for m in re.finditer(r'(^|[^a-zA-Z])([tT]he)([^a-zA-Z]|$)', s):\n",
    "    print(m.group(2), m.span(2))"
   ]
  },
  {
   "cell_type": "code",
   "execution_count": 157,
   "metadata": {},
   "outputs": [
    {
     "name": "stdout",
     "output_type": "stream",
     "text": [
      "[0, 69, 109, 150, 194, 225, 277]\n"
     ]
    }
   ],
   "source": [
    "# Not let's keep the start indices in a variable and \n",
    "# compare against the true start indices.\n",
    "\n",
    "regex_start_indices = []\n",
    "for m in re.finditer(r'(^|[^a-zA-Z])([tT]he)([^a-zA-Z]|$)', s):\n",
    "    regex_start_indices.append(int(m.span(2)[0]))\n",
    "\n",
    "print(regex_start_indices)"
   ]
  },
  {
   "cell_type": "code",
   "execution_count": 158,
   "metadata": {},
   "outputs": [],
   "source": [
    "assert(regex_start_indices == true_start_indices)"
   ]
  },
  {
   "cell_type": "markdown",
   "metadata": {},
   "source": [
    "But this task was very tedious. Also, if we use the same regex on other strings, we might get new false positives and false negatives. Many projects that initially start with regex soon become difficult to manage when you try to use them on new text."
   ]
  },
  {
   "cell_type": "code",
   "execution_count": null,
   "metadata": {},
   "outputs": [],
   "source": []
  }
 ],
 "metadata": {
  "kernelspec": {
   "display_name": "slp-jm-3e",
   "language": "python",
   "name": "slp-jm-3e"
  },
  "language_info": {
   "codemirror_mode": {
    "name": "ipython",
    "version": 3
   },
   "file_extension": ".py",
   "mimetype": "text/x-python",
   "name": "python",
   "nbconvert_exporter": "python",
   "pygments_lexer": "ipython3",
   "version": "3.10.13"
  }
 },
 "nbformat": 4,
 "nbformat_minor": 2
}

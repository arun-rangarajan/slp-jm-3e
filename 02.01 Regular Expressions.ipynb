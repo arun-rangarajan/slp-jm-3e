{
 "cells": [
  {
   "cell_type": "markdown",
   "metadata": {},
   "source": [
    "# 2.1 Regular Expressions\n",
    "\n",
    "The book aptly calls out regular expressions as one of the unsung successes in computer science :-). They are super handy for a lot of tasks and can sometimes be adequate to solve some NLP problems. They can also help establish baselines for many NLP problems.\n",
    "\n",
    "In Python, `re` is the default regular expression library that we need to import and use."
   ]
  },
  {
   "cell_type": "code",
   "execution_count": 17,
   "metadata": {},
   "outputs": [],
   "source": [
    "import re"
   ]
  },
  {
   "cell_type": "markdown",
   "metadata": {},
   "source": [
    "Below, we will use the variable `s` for the string that we are interested in searching in and a variable ending in `_re` to denote the regex we are searching for. We will mostly use the function `re.search` since it's the most flexible. We will also use compiled regexes since they run faster."
   ]
  },
  {
   "cell_type": "markdown",
   "metadata": {},
   "source": [
    "## 2.1.1 Basic Regular Expression Patterns"
   ]
  },
  {
   "cell_type": "code",
   "execution_count": 25,
   "metadata": {},
   "outputs": [
    {
     "name": "stdout",
     "output_type": "stream",
     "text": [
      "<re.Match object; span=(19, 28), match='woodchuck'>\n"
     ]
    }
   ],
   "source": [
    "s = '''Do you know what a woodchuck is?'''\n",
    "\n",
    "# compile a regex for matching the exact string 'woodchuck'\n",
    "# we use raw strings so regex special characters are not interpreted\n",
    "woodchuck_re = re.compile(r'woodchuck')\n",
    "\n",
    "# search\n",
    "m = re.search(woodchuck_re, s)\n",
    "print(m)"
   ]
  },
  {
   "cell_type": "code",
   "execution_count": 19,
   "metadata": {},
   "outputs": [
    {
     "data": {
      "text/plain": [
       "'woodchuck'"
      ]
     },
     "execution_count": 19,
     "metadata": {},
     "output_type": "execute_result"
    }
   ],
   "source": [
    "s[19:28]"
   ]
  },
  {
   "cell_type": "code",
   "execution_count": 20,
   "metadata": {},
   "outputs": [
    {
     "name": "stdout",
     "output_type": "stream",
     "text": [
      "None\n"
     ]
    }
   ],
   "source": [
    "# regexes are case-sensitive by default.\n",
    "\n",
    "s = '''I'm called little Buttercup'''\n",
    "\n",
    "my_re = re.compile(r'buttercup')\n",
    "\n",
    "# this won't match since the case does not match.\n",
    "m = re.search(my_re, s)\n",
    "print(m)"
   ]
  },
  {
   "cell_type": "code",
   "execution_count": 21,
   "metadata": {},
   "outputs": [
    {
     "name": "stdout",
     "output_type": "stream",
     "text": [
      "<re.Match object; span=(18, 27), match='Buttercup'>\n"
     ]
    }
   ],
   "source": [
    "# use square braces for disjunction to allow case insensitivity \n",
    "# for the first character\n",
    "\n",
    "my_re = re.compile(r'[bB]uttercup')\n",
    "\n",
    "m = re.search(my_re, s)\n",
    "print(m)"
   ]
  },
  {
   "cell_type": "code",
   "execution_count": 27,
   "metadata": {},
   "outputs": [
    {
     "name": "stdout",
     "output_type": "stream",
     "text": [
      "<re.Match object; span=(1, 2), match='e'>\n"
     ]
    }
   ],
   "source": [
    "# match any vowel, case-insensitive\n",
    "\n",
    "s = '''Hello there, Mr. E!'''\n",
    "\n",
    "vowel_re = re.compile(r'[aeiouAEIOU]')\n",
    "\n",
    "m = re.search(vowel_re, s)\n",
    "print(m)"
   ]
  },
  {
   "cell_type": "markdown",
   "metadata": {},
   "source": [
    "Notice that only the first match is returned by `re.search`. If we want to find all the matches, we can use `re.finditer`"
   ]
  },
  {
   "cell_type": "code",
   "execution_count": 28,
   "metadata": {},
   "outputs": [
    {
     "name": "stdout",
     "output_type": "stream",
     "text": [
      "<re.Match object; span=(1, 2), match='e'>\n",
      "<re.Match object; span=(4, 5), match='o'>\n",
      "<re.Match object; span=(8, 9), match='e'>\n",
      "<re.Match object; span=(10, 11), match='e'>\n",
      "<re.Match object; span=(17, 18), match='E'>\n"
     ]
    }
   ],
   "source": [
    "for m in re.finditer(vowel_re, s):\n",
    "    print(m)"
   ]
  },
  {
   "cell_type": "code",
   "execution_count": 35,
   "metadata": {},
   "outputs": [
    {
     "name": "stdout",
     "output_type": "stream",
     "text": [
      "<re.Match object; span=(1, 2), match='e'>\n"
     ]
    }
   ],
   "source": [
    "# Set case-insensitive match with flag\n",
    "\n",
    "s = '''Hello there, Mr. E!'''\n",
    "\n",
    "vowel_re = re.compile(r'[aeiou]', flags=re.IGNORECASE)\n",
    "\n",
    "m = re.search(vowel_re, s)\n",
    "print(m)"
   ]
  },
  {
   "cell_type": "code",
   "execution_count": 37,
   "metadata": {},
   "outputs": [
    {
     "name": "stdout",
     "output_type": "stream",
     "text": [
      "<re.Match object; span=(13, 14), match='M'>\n"
     ]
    }
   ],
   "source": [
    "# match any uppercase letter\n",
    "\n",
    "s = '''hello there, Mr. E!'''\n",
    "\n",
    "upper_re = re.compile(r'[A-Z]')\n",
    "m = re.search(upper_re, s)\n",
    "print(m)"
   ]
  },
  {
   "cell_type": "markdown",
   "metadata": {},
   "source": [
    "Similarly, `[a-z]` matches any lower-case letter and `[0-9]` matches any digit. In python `\\d` also means a digit."
   ]
  },
  {
   "cell_type": "code",
   "execution_count": 41,
   "metadata": {},
   "outputs": [
    {
     "name": "stdout",
     "output_type": "stream",
     "text": [
      "<re.Match object; span=(8, 9), match='1'>\n",
      "<re.Match object; span=(9, 10), match='0'>\n",
      "<re.Match object; span=(10, 11), match='0'>\n"
     ]
    }
   ],
   "source": [
    "s = '''He won $100 in the raffle.'''\n",
    "\n",
    "# let's try a regex directly and not compile it\n",
    "for m in re.finditer(r'\\d', s):\n",
    "    print(m)"
   ]
  },
  {
   "cell_type": "markdown",
   "metadata": {},
   "source": [
    "Negation i.e. to not match on something, use `[^`."
   ]
  },
  {
   "cell_type": "code",
   "execution_count": 42,
   "metadata": {},
   "outputs": [
    {
     "name": "stdout",
     "output_type": "stream",
     "text": [
      "<re.Match object; span=(1, 2), match='y'>\n",
      "<re.Match object; span=(2, 3), match='f'>\n",
      "<re.Match object; span=(3, 4), match='n'>\n",
      "<re.Match object; span=(4, 5), match=' '>\n",
      "<re.Match object; span=(6, 7), match='r'>\n",
      "<re.Match object; span=(7, 8), match='i'>\n",
      "<re.Match object; span=(8, 9), match='p'>\n",
      "<re.Match object; span=(9, 10), match='e'>\n"
     ]
    }
   ],
   "source": [
    "s = '''Oyfn PripeT'''\n",
    "\n",
    "not_upper_case_re = re.compile(r'[^A-Z]')\n",
    "\n",
    "for m in re.finditer(not_upper_case_re, s):\n",
    "    print(m)"
   ]
  },
  {
   "cell_type": "markdown",
   "metadata": {},
   "source": [
    "For substituting patterns matching a regular expression with something else, we can use `re.sub`."
   ]
  },
  {
   "cell_type": "code",
   "execution_count": 44,
   "metadata": {},
   "outputs": [
    {
     "name": "stdout",
     "output_type": "stream",
     "text": [
      "ello here, oc!\n"
     ]
    }
   ],
   "source": [
    "# remove all upper-case characters\n",
    "\n",
    "s = '''Hello There, Doc!'''\n",
    "\n",
    "upper_removed_s = re.sub(r'[A-Z]', '', s)\n",
    "print(upper_removed_s)"
   ]
  },
  {
   "cell_type": "code",
   "execution_count": 46,
   "metadata": {},
   "outputs": [
    {
     "name": "stdout",
     "output_type": "stream",
     "text": [
      "<re.Match object; span=(8, 14), match='colour'>\n"
     ]
    }
   ],
   "source": [
    "# optional element, meaning 0 or 1 occurrence\n",
    "\n",
    "# what they see in England\n",
    "s = 'rainbow colours'\n",
    "\n",
    "m = re.search(r'colou?r', s)\n",
    "print(m)"
   ]
  },
  {
   "cell_type": "code",
   "execution_count": 47,
   "metadata": {},
   "outputs": [
    {
     "name": "stdout",
     "output_type": "stream",
     "text": [
      "<re.Match object; span=(8, 13), match='color'>\n"
     ]
    }
   ],
   "source": [
    "# what they see in the US\n",
    "s = 'rainbow colors'\n",
    "\n",
    "m = re.search(r'colou?r', s)\n",
    "print(m)"
   ]
  },
  {
   "cell_type": "code",
   "execution_count": null,
   "metadata": {},
   "outputs": [],
   "source": []
  }
 ],
 "metadata": {
  "kernelspec": {
   "display_name": "slp-jm-3e",
   "language": "python",
   "name": "slp-jm-3e"
  },
  "language_info": {
   "codemirror_mode": {
    "name": "ipython",
    "version": 3
   },
   "file_extension": ".py",
   "mimetype": "text/x-python",
   "name": "python",
   "nbconvert_exporter": "python",
   "pygments_lexer": "ipython3",
   "version": "3.10.13"
  }
 },
 "nbformat": 4,
 "nbformat_minor": 2
}
